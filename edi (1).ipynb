{
 "cells": [
  {
   "cell_type": "code",
   "execution_count": 1,
   "metadata": {
    "id": "SHkzBJQozjrE"
   },
   "outputs": [],
   "source": [
    "import numpy as np\n",
    "import pandas as pd\n",
    "from sklearn.model_selection import train_test_split\n",
    "\n",
    "from sklearn.metrics import accuracy_score\n",
    "from sklearn.preprocessing import LabelEncoder\n",
    "\n",
    "from sklearn.preprocessing import StandardScaler, MinMaxScaler\n",
    "from sklearn.metrics import precision_score, recall_score, f1_score, roc_auc_score, roc_curve\n",
    "\n",
    "from sklearn.svm import SVC\n",
    "import seaborn as sns\n",
    "\n"
   ]
  },
  {
   "cell_type": "code",
   "execution_count": 18,
   "metadata": {},
   "outputs": [],
   "source": [
    "import matplotlib.pyplot as plt"
   ]
  },
  {
   "cell_type": "code",
   "execution_count": 3,
   "metadata": {
    "id": "A1-zj2fWMjzO"
   },
   "outputs": [],
   "source": [
    "data = pd.read_csv('tabular-actgan-65415ed27fe248f10ea57922-data.csv')"
   ]
  },
  {
   "cell_type": "code",
   "execution_count": 4,
   "metadata": {
    "colab": {
     "base_uri": "https://localhost:8080/",
     "height": 536
    },
    "id": "cD_2ldnZMtqL",
    "outputId": "bc4ae3e5-ccc4-4696-b4f9-e96e54d959e6"
   },
   "outputs": [
    {
     "data": {
      "text/html": [
       "<div>\n",
       "<style scoped>\n",
       "    .dataframe tbody tr th:only-of-type {\n",
       "        vertical-align: middle;\n",
       "    }\n",
       "\n",
       "    .dataframe tbody tr th {\n",
       "        vertical-align: top;\n",
       "    }\n",
       "\n",
       "    .dataframe thead th {\n",
       "        text-align: right;\n",
       "    }\n",
       "</style>\n",
       "<table border=\"1\" class=\"dataframe\">\n",
       "  <thead>\n",
       "    <tr style=\"text-align: right;\">\n",
       "      <th></th>\n",
       "      <th>age</th>\n",
       "      <th>gender</th>\n",
       "      <th>ethnicity</th>\n",
       "      <th>marital_status</th>\n",
       "      <th>education_level</th>\n",
       "      <th>employment_status</th>\n",
       "      <th>income</th>\n",
       "      <th>family_history</th>\n",
       "      <th>social_support</th>\n",
       "      <th>stress_level</th>\n",
       "      <th>...</th>\n",
       "      <th>depression_diagnosis</th>\n",
       "      <th>anxiety_diagnosis</th>\n",
       "      <th>suicidal_thoughts</th>\n",
       "      <th>therapy_attendance</th>\n",
       "      <th>medication_usage</th>\n",
       "      <th>self_esteem_level</th>\n",
       "      <th>loneliness_level</th>\n",
       "      <th>life_satisfaction</th>\n",
       "      <th>positive_emotions</th>\n",
       "      <th>negative_emotions</th>\n",
       "    </tr>\n",
       "  </thead>\n",
       "  <tbody>\n",
       "    <tr>\n",
       "      <th>0</th>\n",
       "      <td>18</td>\n",
       "      <td>Male</td>\n",
       "      <td>Caucasian</td>\n",
       "      <td>Married</td>\n",
       "      <td>Doctorate</td>\n",
       "      <td>Employed</td>\n",
       "      <td>906799.7276</td>\n",
       "      <td>1</td>\n",
       "      <td>2</td>\n",
       "      <td>2</td>\n",
       "      <td>...</td>\n",
       "      <td>1</td>\n",
       "      <td>0</td>\n",
       "      <td>0</td>\n",
       "      <td>1</td>\n",
       "      <td>0</td>\n",
       "      <td>4</td>\n",
       "      <td>6</td>\n",
       "      <td>9</td>\n",
       "      <td>3</td>\n",
       "      <td>10</td>\n",
       "    </tr>\n",
       "    <tr>\n",
       "      <th>1</th>\n",
       "      <td>38</td>\n",
       "      <td>Non-binary</td>\n",
       "      <td>African American</td>\n",
       "      <td>Widowed</td>\n",
       "      <td>High School</td>\n",
       "      <td>Self-employed</td>\n",
       "      <td>628619.2488</td>\n",
       "      <td>0</td>\n",
       "      <td>4</td>\n",
       "      <td>10</td>\n",
       "      <td>...</td>\n",
       "      <td>0</td>\n",
       "      <td>1</td>\n",
       "      <td>0</td>\n",
       "      <td>1</td>\n",
       "      <td>0</td>\n",
       "      <td>4</td>\n",
       "      <td>1</td>\n",
       "      <td>1</td>\n",
       "      <td>2</td>\n",
       "      <td>10</td>\n",
       "    </tr>\n",
       "    <tr>\n",
       "      <th>2</th>\n",
       "      <td>77</td>\n",
       "      <td>Male</td>\n",
       "      <td>Hispanic</td>\n",
       "      <td>Divorced</td>\n",
       "      <td>College</td>\n",
       "      <td>Student</td>\n",
       "      <td>717644.4590</td>\n",
       "      <td>1</td>\n",
       "      <td>3</td>\n",
       "      <td>9</td>\n",
       "      <td>...</td>\n",
       "      <td>0</td>\n",
       "      <td>0</td>\n",
       "      <td>0</td>\n",
       "      <td>0</td>\n",
       "      <td>1</td>\n",
       "      <td>1</td>\n",
       "      <td>6</td>\n",
       "      <td>1</td>\n",
       "      <td>8</td>\n",
       "      <td>1</td>\n",
       "    </tr>\n",
       "    <tr>\n",
       "      <th>3</th>\n",
       "      <td>52</td>\n",
       "      <td>Male</td>\n",
       "      <td>Other</td>\n",
       "      <td>Divorced</td>\n",
       "      <td>College</td>\n",
       "      <td>Unemployed</td>\n",
       "      <td>268950.8484</td>\n",
       "      <td>1</td>\n",
       "      <td>5</td>\n",
       "      <td>1</td>\n",
       "      <td>...</td>\n",
       "      <td>0</td>\n",
       "      <td>0</td>\n",
       "      <td>0</td>\n",
       "      <td>0</td>\n",
       "      <td>0</td>\n",
       "      <td>1</td>\n",
       "      <td>6</td>\n",
       "      <td>4</td>\n",
       "      <td>1</td>\n",
       "      <td>10</td>\n",
       "    </tr>\n",
       "    <tr>\n",
       "      <th>4</th>\n",
       "      <td>74</td>\n",
       "      <td>Female</td>\n",
       "      <td>Caucasian</td>\n",
       "      <td>Single</td>\n",
       "      <td>College</td>\n",
       "      <td>Student</td>\n",
       "      <td>999360.1500</td>\n",
       "      <td>1</td>\n",
       "      <td>4</td>\n",
       "      <td>1</td>\n",
       "      <td>...</td>\n",
       "      <td>0</td>\n",
       "      <td>1</td>\n",
       "      <td>1</td>\n",
       "      <td>0</td>\n",
       "      <td>1</td>\n",
       "      <td>2</td>\n",
       "      <td>2</td>\n",
       "      <td>3</td>\n",
       "      <td>10</td>\n",
       "      <td>10</td>\n",
       "    </tr>\n",
       "  </tbody>\n",
       "</table>\n",
       "<p>5 rows × 25 columns</p>\n",
       "</div>"
      ],
      "text/plain": [
       "   age      gender         ethnicity marital_status education_level  \\\n",
       "0   18        Male         Caucasian        Married       Doctorate   \n",
       "1   38  Non-binary  African American        Widowed     High School   \n",
       "2   77        Male          Hispanic       Divorced         College   \n",
       "3   52        Male             Other       Divorced         College   \n",
       "4   74      Female         Caucasian         Single         College   \n",
       "\n",
       "  employment_status       income  family_history  social_support  \\\n",
       "0          Employed  906799.7276               1               2   \n",
       "1     Self-employed  628619.2488               0               4   \n",
       "2           Student  717644.4590               1               3   \n",
       "3        Unemployed  268950.8484               1               5   \n",
       "4           Student  999360.1500               1               4   \n",
       "\n",
       "   stress_level  ...  depression_diagnosis  anxiety_diagnosis  \\\n",
       "0             2  ...                     1                  0   \n",
       "1            10  ...                     0                  1   \n",
       "2             9  ...                     0                  0   \n",
       "3             1  ...                     0                  0   \n",
       "4             1  ...                     0                  1   \n",
       "\n",
       "   suicidal_thoughts therapy_attendance  medication_usage  self_esteem_level  \\\n",
       "0                  0                  1                 0                  4   \n",
       "1                  0                  1                 0                  4   \n",
       "2                  0                  0                 1                  1   \n",
       "3                  0                  0                 0                  1   \n",
       "4                  1                  0                 1                  2   \n",
       "\n",
       "   loneliness_level  life_satisfaction  positive_emotions  negative_emotions  \n",
       "0                 6                  9                  3                 10  \n",
       "1                 1                  1                  2                 10  \n",
       "2                 6                  1                  8                  1  \n",
       "3                 6                  4                  1                 10  \n",
       "4                 2                  3                 10                 10  \n",
       "\n",
       "[5 rows x 25 columns]"
      ]
     },
     "execution_count": 4,
     "metadata": {},
     "output_type": "execute_result"
    }
   ],
   "source": [
    "data.head()"
   ]
  },
  {
   "cell_type": "code",
   "execution_count": 5,
   "metadata": {
    "colab": {
     "base_uri": "https://localhost:8080/"
    },
    "id": "cHpZQ-N2M0sc",
    "outputId": "cf07f94f-a85e-497e-8401-80b794df4a1e"
   },
   "outputs": [
    {
     "name": "stdout",
     "output_type": "stream",
     "text": [
      "<class 'pandas.core.frame.DataFrame'>\n",
      "RangeIndex: 5000 entries, 0 to 4999\n",
      "Data columns (total 25 columns):\n",
      " #   Column                Non-Null Count  Dtype  \n",
      "---  ------                --------------  -----  \n",
      " 0   age                   5000 non-null   int64  \n",
      " 1   gender                5000 non-null   object \n",
      " 2   ethnicity             5000 non-null   object \n",
      " 3   marital_status        5000 non-null   object \n",
      " 4   education_level       5000 non-null   object \n",
      " 5   employment_status     5000 non-null   object \n",
      " 6   income                5000 non-null   float64\n",
      " 7   family_history        5000 non-null   int64  \n",
      " 8   social_support        5000 non-null   int64  \n",
      " 9   stress_level          5000 non-null   int64  \n",
      " 10  sleep_quality         5000 non-null   int64  \n",
      " 11  exercise_frequency    5000 non-null   int64  \n",
      " 12  alcohol_consumption   5000 non-null   int64  \n",
      " 13  smoking_status        5000 non-null   object \n",
      " 14  drug_use              5000 non-null   int64  \n",
      " 15  depression_diagnosis  5000 non-null   int64  \n",
      " 16  anxiety_diagnosis     5000 non-null   int64  \n",
      " 17  suicidal_thoughts     5000 non-null   int64  \n",
      " 18  therapy_attendance    5000 non-null   int64  \n",
      " 19  medication_usage      5000 non-null   int64  \n",
      " 20  self_esteem_level     5000 non-null   int64  \n",
      " 21  loneliness_level      5000 non-null   int64  \n",
      " 22  life_satisfaction     5000 non-null   int64  \n",
      " 23  positive_emotions     5000 non-null   int64  \n",
      " 24  negative_emotions     5000 non-null   int64  \n",
      "dtypes: float64(1), int64(18), object(6)\n",
      "memory usage: 976.7+ KB\n"
     ]
    }
   ],
   "source": [
    "data.info()"
   ]
  },
  {
   "cell_type": "code",
   "execution_count": 6,
   "metadata": {
    "colab": {
     "base_uri": "https://localhost:8080/"
    },
    "id": "9GWpxkwk-GF-",
    "outputId": "64a34de9-9252-4ade-9536-c4631113f7f1"
   },
   "outputs": [
    {
     "name": "stdout",
     "output_type": "stream",
     "text": [
      "Index(['age', 'gender', 'ethnicity', 'marital_status', 'education_level',\n",
      "       'employment_status', 'income', 'family_history', 'social_support',\n",
      "       'stress_level', 'sleep_quality', 'exercise_frequency',\n",
      "       'alcohol_consumption', 'smoking_status', 'drug_use',\n",
      "       'depression_diagnosis', 'anxiety_diagnosis', 'suicidal_thoughts',\n",
      "       'therapy_attendance', 'medication_usage', 'self_esteem_level',\n",
      "       'loneliness_level', 'life_satisfaction', 'positive_emotions',\n",
      "       'negative_emotions'],\n",
      "      dtype='object')\n"
     ]
    }
   ],
   "source": [
    "print(data.columns)"
   ]
  },
  {
   "cell_type": "code",
   "execution_count": 7,
   "metadata": {
    "id": "TuPfDbciTeQv"
   },
   "outputs": [],
   "source": [
    "X = data.drop('depression_diagnosis', axis=1)\n",
    "y = data['depression_diagnosis']\n"
   ]
  },
  {
   "cell_type": "code",
   "execution_count": 8,
   "metadata": {
    "id": "bP_HV3E-Tlzr"
   },
   "outputs": [],
   "source": [
    "X_train, X_test, y_train, y_test = train_test_split(X, y, test_size=0.2, random_state=42)\n"
   ]
  },
  {
   "cell_type": "code",
   "execution_count": 9,
   "metadata": {
    "id": "5IWvLMla-EGY"
   },
   "outputs": [],
   "source": [
    "cat_col = [ 'gender', 'ethnicity', 'marital_status', 'education_level',\n",
    "       'employment_status', 'smoking_status']"
   ]
  },
  {
   "cell_type": "code",
   "execution_count": 10,
   "metadata": {
    "id": "gRH62-ds-jzA"
   },
   "outputs": [],
   "source": [
    "num_col = ['age', 'income', 'social_support',\n",
    "       'stress_level', 'sleep_quality', 'exercise_frequency',\n",
    "       'alcohol_consumption', 'self_esteem_level',\n",
    "       'loneliness_level', 'life_satisfaction', 'positive_emotions',\n",
    "       'negative_emotions']"
   ]
  },
  {
   "cell_type": "code",
   "execution_count": 11,
   "metadata": {
    "id": "KJPvsZhf-wDS"
   },
   "outputs": [],
   "source": [
    "bol_col = ['family_history' ,'drug_use',\n",
    "       'depression_diagnosis', 'anxiety_diagnosis', 'suicidal_thoughts',\n",
    "       'therapy_attendance', 'medication_usage']"
   ]
  },
  {
   "cell_type": "code",
   "execution_count": 12,
   "metadata": {
    "id": "9RKHvaC3r1ND"
   },
   "outputs": [],
   "source": [
    "# Apply Label Encoding to categorical columns\n",
    "label_encoder_dict = {}\n",
    "for col in cat_col:\n",
    "    label_encoder = LabelEncoder()\n",
    "    X_train[col] = label_encoder.fit_transform(X_train[col])\n",
    "    X_test[col] = label_encoder.transform(X_test[col])\n",
    "    label_encoder_dict[col] = label_encoder"
   ]
  },
  {
   "cell_type": "code",
   "execution_count": 13,
   "metadata": {
    "id": "bdtFk30-T2fl"
   },
   "outputs": [],
   "source": [
    "# Standardize numerical features\n",
    "scaler = StandardScaler()\n",
    "X_train[num_col] = scaler.fit_transform(X_train[num_col])\n",
    "X_test[num_col] = scaler.transform(X_test[num_col])"
   ]
  },
  {
   "cell_type": "code",
   "execution_count": 14,
   "metadata": {
    "colab": {
     "base_uri": "https://localhost:8080/"
    },
    "id": "e-AtdYNuo8C3",
    "outputId": "b917ee6d-400e-462c-ac0d-74584b7869d5"
   },
   "outputs": [
    {
     "name": "stdout",
     "output_type": "stream",
     "text": [
      "Top Feature Names: Index(['age', 'social_support', 'sleep_quality', 'anxiety_diagnosis',\n",
      "       'suicidal_thoughts', 'therapy_attendance', 'medication_usage',\n",
      "       'self_esteem_level', 'loneliness_level', 'positive_emotions'],\n",
      "      dtype='object')\n"
     ]
    }
   ],
   "source": [
    "from sklearn.feature_selection import SelectKBest, f_classif\n",
    "\n",
    "# Assume X_train is your feature matrix, and y_train is the target variable\n",
    "selector = SelectKBest(score_func=f_classif, k=10)\n",
    "X_new = selector.fit_transform(X_train, y_train)\n",
    "\n",
    "# Get the names of the top features\n",
    "top_feature_indices = selector.get_support(indices=True)\n",
    "top_feature_names = X_train.columns[top_feature_indices]\n",
    "\n",
    "print(\"Top Feature Names:\", top_feature_names)"
   ]
  },
  {
   "cell_type": "code",
   "execution_count": 20,
   "metadata": {
    "colab": {
     "base_uri": "https://localhost:8080/",
     "height": 604
    },
    "id": "wjrZOctSqN11",
    "outputId": "0cbe3427-5a07-4663-e415-792061278a36"
   },
   "outputs": [
    {
     "data": {
      "image/png": "[encoded data removed]",
      "text/plain": [
       "<Figure size 1200x1000 with 2 Axes>"
      ]
     },
     "metadata": {},
     "output_type": "display_data"
    }
   ],
   "source": [
    "# Assuming X_train, top_feature_names, and y_train are already defined\n",
    "# Extract the top features from X_train\n",
    "X_top_features = X_train[top_feature_names]\n",
    "\n",
    "# Concatenate the top features with the target variable (y_train)\n",
    "data_for_corr = pd.concat([X_top_features, y_train], axis=1)\n",
    "\n",
    "# Calculate the correlation matrix\n",
    "corr_matrix = data_for_corr.corr()\n",
    "\n",
    "# Set up the matplotlib figure\n",
    "plt.figure(figsize=(12, 10))\n",
    "\n",
    "# Draw the heatmap using seaborn\n",
    "sns.heatmap(corr_matrix, annot=True, cmap='coolwarm', fmt=\".2f\", linewidths=.5)\n",
    "\n",
    "# Show the plot\n",
    "plt.title(\"Correlation Matrix for Top Selected Features\")\n",
    "plt.show()"
   ]
  },
  {
   "cell_type": "code",
   "execution_count": 21,
   "metadata": {
    "id": "x4lHxCXnpbcg"
   },
   "outputs": [],
   "source": [
    "top_feature_names = ['age', 'social_support', 'sleep_quality', 'anxiety_diagnosis',\n",
    "       'suicidal_thoughts', 'therapy_attendance', 'medication_usage',\n",
    "       'self_esteem_level', 'loneliness_level', 'positive_emotions']"
   ]
  },
  {
   "cell_type": "code",
   "execution_count": null,
   "metadata": {
    "id": "YamkLWcmuW58"
   },
   "outputs": [],
   "source": []
  },
  {
   "cell_type": "code",
   "execution_count": 22,
   "metadata": {
    "id": "jg5sCNRzjxmD"
   },
   "outputs": [],
   "source": [
    "from keras.models import Sequential\n",
    "from keras.layers import Dense"
   ]
  },
  {
   "cell_type": "code",
   "execution_count": 23,
   "metadata": {
    "colab": {
     "base_uri": "https://localhost:8080/"
    },
    "id": "PTJsl6ygky6C",
    "outputId": "4af9adee-8e38-48f9-db80-d0c390a93da4"
   },
   "outputs": [
    {
     "name": "stdout",
     "output_type": "stream",
     "text": [
      "Epoch 1/10\n"
     ]
    },
    {
     "name": "stderr",
     "output_type": "stream",
     "text": [
      "C:\\Users\\Lenovo\\anaconda3\\Lib\\site-packages\\keras\\src\\layers\\core\\dense.py:88: UserWarning: Do not pass an `input_shape`/`input_dim` argument to a layer. When using Sequential models, prefer using an `Input(shape)` object as the first layer in the model instead.\n",
      "  super().__init__(activity_regularizer=activity_regularizer, **kwargs)\n"
     ]
    },
    {
     "name": "stdout",
     "output_type": "stream",
     "text": [
      "\u001b[1m100/100\u001b[0m \u001b[32m━━━━━━━━━━━━━━━━━━━━\u001b[0m\u001b[37m\u001b[0m \u001b[1m3s\u001b[0m 6ms/step - accuracy: 0.5067 - loss: 0.7867 - val_accuracy: 0.5412 - val_loss: 0.6904\n",
      "Epoch 2/10\n",
      "\u001b[1m100/100\u001b[0m \u001b[32m━━━━━━━━━━━━━━━━━━━━\u001b[0m\u001b[37m\u001b[0m \u001b[1m0s\u001b[0m 2ms/step - accuracy: 0.5486 - loss: 0.6944 - val_accuracy: 0.5113 - val_loss: 0.6952\n",
      "Epoch 3/10\n",
      "\u001b[1m100/100\u001b[0m \u001b[32m━━━━━━━━━━━━━━━━━━━━\u001b[0m\u001b[37m\u001b[0m \u001b[1m0s\u001b[0m 2ms/step - accuracy: 0.5803 - loss: 0.6785 - val_accuracy: 0.5163 - val_loss: 0.6957\n",
      "Epoch 4/10\n",
      "\u001b[1m100/100\u001b[0m \u001b[32m━━━━━━━━━━━━━━━━━━━━\u001b[0m\u001b[37m\u001b[0m \u001b[1m0s\u001b[0m 2ms/step - accuracy: 0.5659 - loss: 0.6838 - val_accuracy: 0.5100 - val_loss: 0.7079\n",
      "Epoch 5/10\n",
      "\u001b[1m100/100\u001b[0m \u001b[32m━━━━━━━━━━━━━━━━━━━━\u001b[0m\u001b[37m\u001b[0m \u001b[1m0s\u001b[0m 2ms/step - accuracy: 0.5870 - loss: 0.6765 - val_accuracy: 0.5225 - val_loss: 0.7039\n",
      "Epoch 6/10\n",
      "\u001b[1m100/100\u001b[0m \u001b[32m━━━━━━━━━━━━━━━━━━━━\u001b[0m\u001b[37m\u001b[0m \u001b[1m0s\u001b[0m 2ms/step - accuracy: 0.5795 - loss: 0.6707 - val_accuracy: 0.5375 - val_loss: 0.7083\n",
      "Epoch 7/10\n",
      "\u001b[1m100/100\u001b[0m \u001b[32m━━━━━━━━━━━━━━━━━━━━\u001b[0m\u001b[37m\u001b[0m \u001b[1m0s\u001b[0m 2ms/step - accuracy: 0.6032 - loss: 0.6629 - val_accuracy: 0.5163 - val_loss: 0.7008\n",
      "Epoch 8/10\n",
      "\u001b[1m100/100\u001b[0m \u001b[32m━━━━━━━━━━━━━━━━━━━━\u001b[0m\u001b[37m\u001b[0m \u001b[1m0s\u001b[0m 2ms/step - accuracy: 0.5933 - loss: 0.6601 - val_accuracy: 0.5025 - val_loss: 0.7127\n",
      "Epoch 9/10\n",
      "\u001b[1m100/100\u001b[0m \u001b[32m━━━━━━━━━━━━━━━━━━━━\u001b[0m\u001b[37m\u001b[0m \u001b[1m0s\u001b[0m 2ms/step - accuracy: 0.5856 - loss: 0.6605 - val_accuracy: 0.5312 - val_loss: 0.7123\n",
      "Epoch 10/10\n",
      "\u001b[1m100/100\u001b[0m \u001b[32m━━━━━━━━━━━━━━━━━━━━\u001b[0m\u001b[37m\u001b[0m \u001b[1m0s\u001b[0m 2ms/step - accuracy: 0.6176 - loss: 0.6580 - val_accuracy: 0.5075 - val_loss: 0.7085\n",
      "\u001b[1m32/32\u001b[0m \u001b[32m━━━━━━━━━━━━━━━━━━━━\u001b[0m\u001b[37m\u001b[0m \u001b[1m0s\u001b[0m 1ms/step - accuracy: 0.5177 - loss: 0.6989  \n"
     ]
    },
    {
     "name": "stderr",
     "output_type": "stream",
     "text": [
      "WARNING:absl:You are saving your model as an HDF5 file via `model.save()` or `keras.saving.save_model(model)`. This file format is considered legacy. We recommend using instead the native Keras format, e.g. `model.save('my_model.keras')` or `keras.saving.save_model(model, 'my_model.keras')`. \n"
     ]
    },
    {
     "name": "stdout",
     "output_type": "stream",
     "text": [
      "Neural Network Accuracy: 0.5210\n"
     ]
    }
   ],
   "source": [
    "from keras.layers import BatchNormalization\n",
    "\n",
    "model = Sequential()\n",
    "model.add(Dense(64, input_dim=X_train[top_feature_names].shape[1], activation='relu'))\n",
    "model.add(BatchNormalization())\n",
    "model.add(Dense(32, activation='relu'))\n",
    "model.add(BatchNormalization())\n",
    "model.add(Dense(1, activation='sigmoid'))\n",
    "from keras.layers import Dropout\n",
    "\n",
    "\n",
    "# Compile the model\n",
    "model.compile(optimizer='adam', loss='binary_crossentropy', metrics=['accuracy'])\n",
    "\n",
    "# Train the model\n",
    "history = model.fit(X_train[top_feature_names], y_train, epochs=10, batch_size=32, validation_split=0.2, verbose=1)\n",
    "\n",
    "# Evaluate the model on the test set\n",
    "loss, accuracy = model.evaluate(X_test[top_feature_names], y_test)\n",
    "print(f'Neural Network Accuracy: {accuracy:.4f}')\n",
    "\n",
    "# Save the model\n",
    "model.save(\"depression_diagnosis.h5\")\n"
   ]
  },
  {
   "cell_type": "code",
   "execution_count": 24,
   "metadata": {
    "id": "gb512JXNFRKp"
   },
   "outputs": [
    {
     "name": "stderr",
     "output_type": "stream",
     "text": [
      "WARNING:absl:You are saving your model as an HDF5 file via `model.save()` or `keras.saving.save_model(model)`. This file format is considered legacy. We recommend using instead the native Keras format, e.g. `model.save('my_model.keras')` or `keras.saving.save_model(model, 'my_model.keras')`. \n"
     ]
    }
   ],
   "source": [
    "# Save the model\n",
    "model.save(\"suicidal_thoughts_model.h5\")"
   ]
  },
  {
   "cell_type": "code",
   "execution_count": 25,
   "metadata": {
    "colab": {
     "base_uri": "https://localhost:8080/"
    },
    "id": "zGghkr6ulqyI",
    "outputId": "470559c6-0695-49fa-d22f-07b72249cee5"
   },
   "outputs": [
    {
     "name": "stdout",
     "output_type": "stream",
     "text": [
      "\u001b[1m32/32\u001b[0m \u001b[32m━━━━━━━━━━━━━━━━━━━━\u001b[0m\u001b[37m\u001b[0m \u001b[1m0s\u001b[0m 3ms/step\n",
      "Neural Network Classification Report:\n",
      "              precision    recall  f1-score   support\n",
      "\n",
      "           0       0.57      0.64      0.60       567\n",
      "           1       0.44      0.37      0.40       433\n",
      "\n",
      "    accuracy                           0.52      1000\n",
      "   macro avg       0.50      0.50      0.50      1000\n",
      "weighted avg       0.51      0.52      0.51      1000\n",
      "\n",
      "Confusion Matrix:\n",
      "[[362 205]\n",
      " [274 159]]\n"
     ]
    }
   ],
   "source": [
    "from sklearn.metrics import classification_report, confusion_matrix\n",
    "\n",
    "# Assuming model is your trained neural network model\n",
    "y_pred = model.predict(X_test[top_feature_names])\n",
    "y_pred_binary = (y_pred > 0.5).astype(int)  # Assuming it's a binary classification task\n",
    "\n",
    "# Print classification report\n",
    "print(\"Neural Network Classification Report:\")\n",
    "print(classification_report(y_test, y_pred_binary))\n",
    "\n",
    "# Print confusion matrix\n",
    "print(\"Confusion Matrix:\")\n",
    "print(confusion_matrix(y_test, y_pred_binary))"
   ]
  },
  {
   "cell_type": "code",
   "execution_count": null,
   "metadata": {},
   "outputs": [],
   "source": []
  }
 ],
 "metadata": {
  "colab": {
   "provenance": []
  },
  "kernelspec": {
   "display_name": "Python 3 (ipykernel)",
   "language": "python",
   "name": "python3"
  },
  "language_info": {
   "codemirror_mode": {
    "name": "ipython",
    "version": 3
   },
   "file_extension": ".py",
   "mimetype": "text/x-python",
   "name": "python",
   "nbconvert_exporter": "python",
   "pygments_lexer": "ipython3",
   "version": "3.11.7"
  },
  "widgets": {
   "application/vnd.jupyter.widget-state+json": {
    "state": {},
    "version_major": 2,
    "version_minor": 0
   }
  }
 },
 "nbformat": 4,
 "nbformat_minor": 4
}
